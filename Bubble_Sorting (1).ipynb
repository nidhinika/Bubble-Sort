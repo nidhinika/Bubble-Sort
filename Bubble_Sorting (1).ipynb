{
  "nbformat": 4,
  "nbformat_minor": 0,
  "metadata": {
    "colab": {
      "name": "Bubble Sorting.ipynb",
      "provenance": []
    },
    "kernelspec": {
      "name": "python3",
      "display_name": "Python 3"
    }
  },
  "cells": [
    {
      "cell_type": "code",
      "metadata": {
        "id": "7HoxJUT1cJpW",
        "colab_type": "code",
        "colab": {}
      },
      "source": [
        "def bubble(e,key=None):\n",
        "    size=len(e)\n",
        "    for i in range(size-1):\n",
        "      swap=False\n",
        "      for j in range(size-1-i):\n",
        "        if e[j][key]>e[j+1][key]:\n",
        "          tmp=e[j]\n",
        "          e[j]=e[j+1]\n",
        "          e[j+1]=tmp\n",
        "      if not swap:\n",
        "        break\n",
        "\n",
        "        \n",
        "\n",
        "\n",
        "        \n",
        "     \n"
      ],
      "execution_count": 20,
      "outputs": []
    },
    {
      "cell_type": "code",
      "metadata": {
        "id": "aBXfyrjcfkLO",
        "colab_type": "code",
        "colab": {}
      },
      "source": [
        "e=[\n",
        "        { 'name': 'mona',   'transaction_amount': 1000, 'device': 'iphone-10'},\n",
        "        { 'name': 'dhaval', 'transaction_amount': 400,  'device': 'google pixel'},\n",
        "        { 'name': 'kathy',  'transaction_amount': 200,  'device': 'vivo'},\n",
        "        { 'name': 'aamir',  'transaction_amount': 800,  'device': 'iphone-8'},\n",
        "    ]"
      ],
      "execution_count": 9,
      "outputs": []
    },
    {
      "cell_type": "code",
      "metadata": {
        "id": "a7GeHF7lfwbC",
        "colab_type": "code",
        "colab": {}
      },
      "source": [
        "bubble(e,key=\"transaction_amount\")"
      ],
      "execution_count": 29,
      "outputs": []
    },
    {
      "cell_type": "code",
      "metadata": {
        "id": "aEOCa3df73aO",
        "colab_type": "code",
        "colab": {
          "base_uri": "https://localhost:8080/",
          "height": 87
        },
        "outputId": "6db87229-4604-420a-e01d-fe5ccb5e4d6e"
      },
      "source": [
        "e"
      ],
      "execution_count": 30,
      "outputs": [
        {
          "output_type": "execute_result",
          "data": {
            "text/plain": [
              "[{'device': 'vivo', 'name': 'kathy', 'transaction_amount': 200},\n",
              " {'device': 'google pixel', 'name': 'dhaval', 'transaction_amount': 400},\n",
              " {'device': 'iphone-8', 'name': 'aamir', 'transaction_amount': 800},\n",
              " {'device': 'iphone-10', 'name': 'mona', 'transaction_amount': 1000}]"
            ]
          },
          "metadata": {
            "tags": []
          },
          "execution_count": 30
        }
      ]
    },
    {
      "cell_type": "code",
      "metadata": {
        "id": "4j4ztLXCRUzn",
        "colab_type": "code",
        "colab": {}
      },
      "source": [
        "def bubble_sort(elements, key=None):\n",
        "    size = len(elements)\n",
        "\n",
        "    for i in range(size-1):\n",
        "        swapped = False\n",
        "        for j in range(size-1-i):\n",
        "            a = elements[j][key]\n",
        "            b = elements[j+1][key]\n",
        "            if a > b:\n",
        "                tmp = elements[j]\n",
        "                elements[j] = elements[j+1]\n",
        "                elements[j+1] = tmp\n",
        "                swapped = True\n",
        "\n",
        "        if not swapped:\n",
        "            break"
      ],
      "execution_count": 2,
      "outputs": []
    },
    {
      "cell_type": "code",
      "metadata": {
        "id": "CQeQRhSkRXif",
        "colab_type": "code",
        "colab": {}
      },
      "source": [
        "if __name__ == '__main__':\n",
        "    elements = [\n",
        "        { 'name': 'mona',   'transaction_amount': 1000, 'device': 'iphone-10'},\n",
        "        { 'name': 'dhaval', 'transaction_amount': 400,  'device': 'google pixel'},\n",
        "        { 'name': 'kathy',  'transaction_amount': 200,  'device': 'vivo'},\n",
        "        { 'name': 'aamir',  'transaction_amount': 800,  'device': 'iphone-8'},\n",
        "    ]\n"
      ],
      "execution_count": 3,
      "outputs": []
    },
    {
      "cell_type": "code",
      "metadata": {
        "id": "5UqD6V_VRe93",
        "colab_type": "code",
        "colab": {}
      },
      "source": [
        " bubble_sort(elements, key='transaction_amount')"
      ],
      "execution_count": 27,
      "outputs": []
    },
    {
      "cell_type": "code",
      "metadata": {
        "id": "xR3jjexvRmkd",
        "colab_type": "code",
        "colab": {
          "base_uri": "https://localhost:8080/",
          "height": 87
        },
        "outputId": "31d42a34-4305-4493-9f78-5575c7d925d9"
      },
      "source": [
        "elements"
      ],
      "execution_count": 28,
      "outputs": [
        {
          "output_type": "execute_result",
          "data": {
            "text/plain": [
              "[{'device': 'vivo', 'name': 'kathy', 'transaction_amount': 200},\n",
              " {'device': 'google pixel', 'name': 'dhaval', 'transaction_amount': 400},\n",
              " {'device': 'iphone-8', 'name': 'aamir', 'transaction_amount': 800},\n",
              " {'device': 'iphone-10', 'name': 'mona', 'transaction_amount': 1000}]"
            ]
          },
          "metadata": {
            "tags": []
          },
          "execution_count": 28
        }
      ]
    }
  ]
}