{
  "nbformat": 4,
  "nbformat_minor": 0,
  "metadata": {
    "colab": {
      "name": "Bubble Sorting.ipynb",
      "provenance": []
    },
    "kernelspec": {
      "name": "python3",
      "display_name": "Python 3"
    }
  },
  "cells": [
    {
      "cell_type": "code",
      "metadata": {
        "id": "7HoxJUT1cJpW",
        "colab_type": "code",
        "colab": {}
      },
      "source": [
        "def bubble_sort(e):\n",
        "  size=len(e)\n",
        "  for i in range(size-1):\n",
        "    swap=False\n",
        "    for j in range(size-i-1):\n",
        "      if e[j]>e[j+1]:\n",
        "        tmp=e[j]\n",
        "        e[j]=e[j+1]\n",
        "        e[j+1]=tmp\n",
        "        swap=True\n",
        "    if not swap:\n",
        "      break\n",
        "\n",
        "        \n",
        "     \n"
      ],
      "execution_count": 9,
      "outputs": []
    },
    {
      "cell_type": "code",
      "metadata": {
        "id": "aBXfyrjcfkLO",
        "colab_type": "code",
        "colab": {}
      },
      "source": [
        "e=[1,2,3,7,9,89,8]\n",
        "bubble_sort(e)"
      ],
      "execution_count": 10,
      "outputs": []
    },
    {
      "cell_type": "code",
      "metadata": {
        "id": "a7GeHF7lfwbC",
        "colab_type": "code",
        "colab": {
          "base_uri": "https://localhost:8080/",
          "height": 35
        },
        "outputId": "e5d4cc11-0681-41a7-d398-df5f97c764c7"
      },
      "source": [
        "e"
      ],
      "execution_count": 11,
      "outputs": [
        {
          "output_type": "execute_result",
          "data": {
            "text/plain": [
              "[1, 2, 3, 7, 8, 9, 89]"
            ]
          },
          "metadata": {
            "tags": []
          },
          "execution_count": 11
        }
      ]
    }
  ]
}